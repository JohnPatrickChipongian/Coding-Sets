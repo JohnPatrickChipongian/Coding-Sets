{
 "cells": [
  {
   "cell_type": "markdown",
   "metadata": {},
   "source": [
    "## Set theory"
   ]
  },
  {
   "cell_type": "markdown",
   "metadata": {},
   "source": [
    "## Activity"
   ]
  },
  {
   "cell_type": "markdown",
   "metadata": {},
   "source": [
    "### List\n",
    "#### The players of T1 are Faker, Canna, Effort"
   ]
  },
  {
   "cell_type": "markdown",
   "metadata": {},
   "source": [
    "$$Players=\\begin{bmatrix} Faker, Canna, Effort\\end{bmatrix} \n",
    "$$"
   ]
  },
  {
   "cell_type": "code",
   "execution_count": 19,
   "metadata": {},
   "outputs": [],
   "source": [
    "#Declaration\n",
    "players = ['Faker' , 'Canna' , 'Effort']"
   ]
  },
  {
   "cell_type": "code",
   "execution_count": 20,
   "metadata": {},
   "outputs": [
    {
     "data": {
      "text/plain": [
       "'Faker'"
      ]
     },
     "execution_count": 20,
     "metadata": {},
     "output_type": "execute_result"
    }
   ],
   "source": [
    "#Single Access\n",
    "players [0]"
   ]
  },
  {
   "cell_type": "code",
   "execution_count": 21,
   "metadata": {},
   "outputs": [
    {
     "data": {
      "text/plain": [
       "'Canna'"
      ]
     },
     "execution_count": 21,
     "metadata": {},
     "output_type": "execute_result"
    }
   ],
   "source": [
    "#Single Access\n",
    "players[-2]"
   ]
  },
  {
   "cell_type": "code",
   "execution_count": 22,
   "metadata": {},
   "outputs": [
    {
     "data": {
      "text/plain": [
       "'Effort'"
      ]
     },
     "execution_count": 22,
     "metadata": {},
     "output_type": "execute_result"
    }
   ],
   "source": [
    "#Single Access\n",
    "players[-1]\n"
   ]
  },
  {
   "cell_type": "code",
   "execution_count": 23,
   "metadata": {},
   "outputs": [
    {
     "data": {
      "text/plain": [
       "['Faker', 'Canna']"
      ]
     },
     "execution_count": 23,
     "metadata": {},
     "output_type": "execute_result"
    }
   ],
   "source": [
    "#Multiple Access\n",
    "players[0:2] # can also be [:2]  where the zero is the starting of the declaration and the 2 is the range"
   ]
  },
  {
   "cell_type": "code",
   "execution_count": 24,
   "metadata": {},
   "outputs": [
    {
     "data": {
      "text/plain": [
       "['Faker', 'Canna']"
      ]
     },
     "execution_count": 24,
     "metadata": {},
     "output_type": "execute_result"
    }
   ],
   "source": [
    "players[:2:1] # the starting is at zero and the range is 2 and the increments is 1 the value as 1st place in the row will be removed"
   ]
  },
  {
   "cell_type": "code",
   "execution_count": 25,
   "metadata": {
    "scrolled": true
   },
   "outputs": [
    {
     "name": "stdout",
     "output_type": "stream",
     "text": [
      "Faker\n",
      "Canna\n",
      "Effort\n"
     ]
    }
   ],
   "source": [
    "# Multiple Access via looops\n",
    "for player in players:\n",
    "    print(player)"
   ]
  },
  {
   "cell_type": "code",
   "execution_count": 26,
   "metadata": {},
   "outputs": [
    {
     "name": "stdout",
     "output_type": "stream",
     "text": [
      "Faker\n",
      "Effort\n"
     ]
    }
   ],
   "source": [
    "#range\n",
    "for a in range(len(players)):\n",
    "    if (a % 2 == 0):  # all even numbers\n",
    "        print(players[a])\n"
   ]
  },
  {
   "cell_type": "code",
   "execution_count": 27,
   "metadata": {
    "scrolled": true
   },
   "outputs": [
    {
     "name": "stdout",
     "output_type": "stream",
     "text": [
      "['Faker', 'Canna', 'Teddy']\n"
     ]
    }
   ],
   "source": [
    "#Modifying elements\n",
    "players[-1]= 'Teddy' # changes Effort with Teddy\n",
    "print(players)"
   ]
  },
  {
   "cell_type": "code",
   "execution_count": 28,
   "metadata": {
    "scrolled": true
   },
   "outputs": [
    {
     "name": "stdout",
     "output_type": "stream",
     "text": [
      "['Faker', 'Teddy', 'Canna', 'Teddy']\n"
     ]
    }
   ],
   "source": [
    "#adding elements\n",
    "players.insert( 1,\"Teddy\") # can be added at any part of the list\n",
    "print(players)"
   ]
  },
  {
   "cell_type": "code",
   "execution_count": 29,
   "metadata": {},
   "outputs": [
    {
     "name": "stdout",
     "output_type": "stream",
     "text": [
      "['Faker', 'Teddy', 'Canna', 'Teddy', 'Keria']\n"
     ]
    }
   ],
   "source": [
    "#adding elements\n",
    "players.append('Keria') # can only be added at the end of the list\n",
    "print(players)"
   ]
  },
  {
   "cell_type": "code",
   "execution_count": 30,
   "metadata": {
    "scrolled": true
   },
   "outputs": [
    {
     "name": "stdout",
     "output_type": "stream",
     "text": [
      "['Faker', 'Teddy', 'Canna', 'Teddy']\n"
     ]
    }
   ],
   "source": [
    "#Remove elements\n",
    "players.pop() # only removes the end of the list by default\n",
    "print(players)"
   ]
  },
  {
   "cell_type": "code",
   "execution_count": 31,
   "metadata": {},
   "outputs": [
    {
     "name": "stdout",
     "output_type": "stream",
     "text": [
      "['Faker', 'Canna', 'Teddy']\n"
     ]
    }
   ],
   "source": [
    "#Remove elements\n",
    "players.remove('Teddy') # can also use del employees[0]\n",
    "print(players)"
   ]
  },
  {
   "cell_type": "code",
   "execution_count": 32,
   "metadata": {
    "scrolled": true
   },
   "outputs": [
    {
     "name": "stdout",
     "output_type": "stream",
     "text": [
      "[]\n"
     ]
    }
   ],
   "source": [
    "players.clear() # everything inside the list removed\n",
    "print(players)"
   ]
  },
  {
   "cell_type": "markdown",
   "metadata": {},
   "source": [
    "### Tuples\n",
    "#### The team comp of T1 last season and this season\n"
   ]
  },
  {
   "cell_type": "markdown",
   "metadata": {},
   "source": [
    "$$Last season = \\begin{bmatrix} Mata, Clid, Khan, Teddy \\\\\\end{bmatrix} \\\\\n",
    "Present season = \\begin{bmatrix} Effort, Cuzz, Canna, Teddy  \\\\\\end{bmatrix} $$"
   ]
  },
  {
   "cell_type": "code",
   "execution_count": 33,
   "metadata": {},
   "outputs": [],
   "source": [
    "#Declaration\n",
    "\n",
    "last_season = (\"Mata\", \"Clid\", \"Khan\", \"Teddy\")\n",
    "present_season = (\"Effort\", \"Cuzz\", \"Canna\", \"Teddy\")"
   ]
  },
  {
   "cell_type": "code",
   "execution_count": 34,
   "metadata": {},
   "outputs": [
    {
     "data": {
      "text/plain": [
       "'Teddy'"
      ]
     },
     "execution_count": 34,
     "metadata": {},
     "output_type": "execute_result"
    }
   ],
   "source": [
    "#Single Access \n",
    "\n",
    "last_season[3]"
   ]
  },
  {
   "cell_type": "code",
   "execution_count": 35,
   "metadata": {},
   "outputs": [
    {
     "data": {
      "text/plain": [
       "'Teddy'"
      ]
     },
     "execution_count": 35,
     "metadata": {},
     "output_type": "execute_result"
    }
   ],
   "source": [
    "#Single Access \n",
    "\n",
    "present_season[-1]"
   ]
  },
  {
   "cell_type": "code",
   "execution_count": 36,
   "metadata": {},
   "outputs": [
    {
     "ename": "TypeError",
     "evalue": "'tuple' object does not support item assignment",
     "output_type": "error",
     "traceback": [
      "\u001b[1;31m---------------------------------------------------------------------------\u001b[0m",
      "\u001b[1;31mTypeError\u001b[0m                                 Traceback (most recent call last)",
      "\u001b[1;32m<ipython-input-36-3a8c0d535d97>\u001b[0m in \u001b[0;36m<module>\u001b[1;34m\u001b[0m\n\u001b[0;32m      1\u001b[0m \u001b[1;31m#modifying elements\u001b[0m\u001b[1;33m\u001b[0m\u001b[1;33m\u001b[0m\u001b[1;33m\u001b[0m\u001b[0m\n\u001b[0;32m      2\u001b[0m \u001b[1;33m\u001b[0m\u001b[0m\n\u001b[1;32m----> 3\u001b[1;33m \u001b[0mlast_season\u001b[0m\u001b[1;33m[\u001b[0m\u001b[1;36m2\u001b[0m\u001b[1;33m]\u001b[0m \u001b[1;33m=\u001b[0m \u001b[1;34m'Faker'\u001b[0m \u001b[1;31m#tupples are not allowed to be modify\u001b[0m\u001b[1;33m\u001b[0m\u001b[1;33m\u001b[0m\u001b[0m\n\u001b[0m",
      "\u001b[1;31mTypeError\u001b[0m: 'tuple' object does not support item assignment"
     ]
    }
   ],
   "source": [
    "#modifying elements\n",
    "\n",
    "last_season[2] = 'Faker' #tupples are not allowed to be modify"
   ]
  },
  {
   "cell_type": "code",
   "execution_count": null,
   "metadata": {},
   "outputs": [],
   "source": [
    "#Multiple Access\n",
    "\n",
    "last_season[:3:2]"
   ]
  },
  {
   "cell_type": "code",
   "execution_count": null,
   "metadata": {},
   "outputs": [],
   "source": [
    "#Multiple Access\n",
    "\n",
    "present_season[:3:1]"
   ]
  },
  {
   "cell_type": "code",
   "execution_count": null,
   "metadata": {},
   "outputs": [],
   "source": [
    "#Multipple Acess Via Loops\n",
    "\n",
    "for teamcomp in last_season:\n",
    "    print (teamcomp)"
   ]
  },
  {
   "cell_type": "code",
   "execution_count": null,
   "metadata": {},
   "outputs": [],
   "source": [
    "#Range\n",
    "\n",
    "for a in range(len(present_season)):\n",
    "    if(a%3 == 0):\n",
    "        print(present_season[a])"
   ]
  },
  {
   "cell_type": "code",
   "execution_count": null,
   "metadata": {},
   "outputs": [],
   "source": [
    "#Combination\n",
    "\n",
    "for T1_comps in zip(last_season, present_season): #combining the two set and pairing it to one another\n",
    "    print(T1_comps)"
   ]
  },
  {
   "cell_type": "code",
   "execution_count": null,
   "metadata": {},
   "outputs": [],
   "source": [
    "#Removing Elements \n",
    "\n",
    "last_season.pop() #not allowed to modify the elements inside the set\n"
   ]
  },
  {
   "cell_type": "code",
   "execution_count": null,
   "metadata": {},
   "outputs": [],
   "source": [
    "#Mergig Tuples \n",
    "\n",
    "T1_players= last_season + present_season  #combine the two sets inside each elements\n",
    "print(T1_players)"
   ]
  },
  {
   "cell_type": "markdown",
   "metadata": {},
   "source": [
    "# Set"
   ]
  },
  {
   "cell_type": "markdown",
   "metadata": {},
   "source": [
    "$$LCK teams(2018) =\\{\\begin{array}\\ AF, SKT T1, ROX, JAG\\}\\end{array} \\\\\n",
    "LCK teams(2019) =\\{\\begin{array}\\ GRF, GENG, SKT T1, AF \\}\\end{array}\\\\\n",
    "LCK teams(2020) =\\{\\begin{array}\\ SKT T1, DWG, AF, DRX\\}\\end{array}$$\n",
    "\n",
    "\n"
   ]
  },
  {
   "cell_type": "code",
   "execution_count": null,
   "metadata": {},
   "outputs": [],
   "source": [
    "#Declaration\n",
    "teams_2018 = {'AF', 'SKT T1', 'ROX', 'JAG'}\n",
    "teams_2019 = {'GRF', 'GENG', 'SKT T1', 'AF'}\n",
    "teams_2020 = {'SKT T1', 'DWG', 'AF', 'DRX'}"
   ]
  },
  {
   "cell_type": "code",
   "execution_count": null,
   "metadata": {},
   "outputs": [],
   "source": [
    "#Accessing Elements\n",
    "teams_2020[2] # accessing one elements in a set by referring to its index is not allowed "
   ]
  },
  {
   "cell_type": "code",
   "execution_count": null,
   "metadata": {
    "scrolled": true
   },
   "outputs": [],
   "source": [
    "#Multiple Access Via Loops \n",
    "for teams in teams_2018:\n",
    "    print (teams)"
   ]
  },
  {
   "cell_type": "code",
   "execution_count": null,
   "metadata": {},
   "outputs": [],
   "source": [
    "#removing an element \n",
    "teams_2018.remove('ROX') #not allowed same as accessing elements using index "
   ]
  },
  {
   "cell_type": "code",
   "execution_count": null,
   "metadata": {},
   "outputs": [],
   "source": [
    "#Membership\n",
    "print('AF' in teams_2018)  ## in the teams of 2018\n",
    "print('AF' in teams_2019)  ## in the teams of 2019\n",
    "print('AF' in teams_2020)  ## in the teams of 2020"
   ]
  },
  {
   "cell_type": "code",
   "execution_count": null,
   "metadata": {},
   "outputs": [],
   "source": [
    "#Subsets \n",
    "worlds_qualifiers = {'DWG', 'DRX'}\n",
    "worlds_qualifiers.issubset(teams_2020)"
   ]
  },
  {
   "cell_type": "code",
   "execution_count": null,
   "metadata": {},
   "outputs": [],
   "source": [
    "#Subsets\n",
    "playoffs_2019 = {'SKT T1', 'AF', 'KT'}\n",
    "playoffs_2019.issubset(teams_2018)"
   ]
  },
  {
   "cell_type": "code",
   "execution_count": null,
   "metadata": {},
   "outputs": [],
   "source": [
    "#Union \n",
    "teams_2019_2020 = teams_2019.union(teams_2020)\n",
    "print(teams_2019_2020)"
   ]
  },
  {
   "cell_type": "code",
   "execution_count": null,
   "metadata": {},
   "outputs": [],
   "source": [
    "#Intersection\n",
    "teams_2018.intersection(teams_2019, teams_2020)"
   ]
  },
  {
   "cell_type": "code",
   "execution_count": null,
   "metadata": {},
   "outputs": [],
   "source": [
    "#Difference \n",
    "teams_2020.difference(teams_2019)"
   ]
  },
  {
   "cell_type": "markdown",
   "metadata": {},
   "source": [
    "# Dictionaries"
   ]
  },
  {
   "cell_type": "markdown",
   "metadata": {},
   "source": [
    "$$World'sTitles =\\{\\begin{array}\\ LCK: 6 Titles,  LPL: 2Titles, LEC: 1Title, PCS: 1Title \\}\\end{array}$$"
   ]
  },
  {
   "cell_type": "code",
   "execution_count": null,
   "metadata": {},
   "outputs": [],
   "source": [
    "#Declaration \n",
    "worlds_titles = {'LCK':6,'LPL':2,'LEC':1,'PCS':1}\n",
    "onlineshop_1_php = {'shoes':999, \n",
    "               'bag':500,\n",
    "               'perfume': 700,\n",
    "               'clothes':150}"
   ]
  },
  {
   "cell_type": "code",
   "execution_count": null,
   "metadata": {},
   "outputs": [],
   "source": [
    "#Accessing\n",
    "worlds_titles['LPL']"
   ]
  },
  {
   "cell_type": "code",
   "execution_count": null,
   "metadata": {},
   "outputs": [],
   "source": [
    "#Accessing via loops\n",
    "for regions in worlds_titles: \n",
    "    print(regions)"
   ]
  },
  {
   "cell_type": "code",
   "execution_count": null,
   "metadata": {},
   "outputs": [],
   "source": [
    "#Accessing via loops\n",
    "for titles in worlds_titles: \n",
    "    print(worlds_titles[titles])"
   ]
  },
  {
   "cell_type": "code",
   "execution_count": null,
   "metadata": {
    "scrolled": true
   },
   "outputs": [],
   "source": [
    "for titles in worlds_titles.values(): \n",
    "    print(titles)"
   ]
  },
  {
   "cell_type": "code",
   "execution_count": null,
   "metadata": {
    "scrolled": true
   },
   "outputs": [],
   "source": [
    "for region, title in worlds_titles.items(): \n",
    "    print(region, title)"
   ]
  },
  {
   "cell_type": "code",
   "execution_count": null,
   "metadata": {
    "scrolled": true
   },
   "outputs": [],
   "source": [
    "#Modification\n",
    "print(worlds_titles['LCK'])\n",
    "worlds_titles['LCK'] +=1 \n",
    "print(worlds_titles['LCK'])"
   ]
  },
  {
   "cell_type": "code",
   "execution_count": null,
   "metadata": {},
   "outputs": [],
   "source": [
    "#Adding Elements\n",
    "worlds_titles['LCS']= 0 \n",
    "print(worlds_titles)"
   ]
  },
  {
   "cell_type": "code",
   "execution_count": null,
   "metadata": {
    "scrolled": false
   },
   "outputs": [],
   "source": [
    "#Remove Elements\n",
    "print(worlds_titles) #original set of the given example of set\n",
    "print(worlds_titles.pop('LCS')) #removing element inside the set\n",
    "print(worlds_titles)"
   ]
  },
  {
   "cell_type": "markdown",
   "metadata": {},
   "source": [
    "# Dataset Operations"
   ]
  },
  {
   "cell_type": "markdown",
   "metadata": {},
   "source": [
    "$$TeamComp2019 =\\{\\begin{array}\\ Khan, Clid, Faker, Teddy, Mata\\}\\end{array}\\\\\n",
    "TeamComp2020=\\{\\begin{array}\\ Canna, Cuzz, Faker, Teddy, Effort\\}\\end{array}$$"
   ]
  },
  {
   "cell_type": "code",
   "execution_count": null,
   "metadata": {},
   "outputs": [],
   "source": [
    "#Declaration \n",
    "team_comp_2019 = {'Khan', 'Clid', 'Faker', 'Teddy', 'Mata'}\n",
    "team_comp_2020 = {'Canna', 'Cuzz', 'Faker', 'Teddy', 'Effort'}"
   ]
  },
  {
   "cell_type": "code",
   "execution_count": null,
   "metadata": {},
   "outputs": [],
   "source": [
    "team2019 = set(team_comp_2019) # all elements inside will be called using set function\n",
    "team2020 = set(team_comp_2020)"
   ]
  },
  {
   "cell_type": "code",
   "execution_count": null,
   "metadata": {
    "scrolled": true
   },
   "outputs": [],
   "source": [
    "team2019"
   ]
  },
  {
   "cell_type": "code",
   "execution_count": null,
   "metadata": {},
   "outputs": [],
   "source": [
    "team2020"
   ]
  },
  {
   "cell_type": "code",
   "execution_count": null,
   "metadata": {},
   "outputs": [],
   "source": [
    "#Innerjoin/intersection/similarities\n",
    "common = team2019.intersection(team2020)\n",
    "common"
   ]
  },
  {
   "cell_type": "code",
   "execution_count": null,
   "metadata": {},
   "outputs": [],
   "source": [
    "#Leftjoin\n",
    "team2019_ljoin = common.union(team2019)\n",
    "team2019_ljoin"
   ]
  },
  {
   "cell_type": "code",
   "execution_count": null,
   "metadata": {},
   "outputs": [],
   "source": [
    "#rightjoin\n",
    "team2020_rjoin = common.union(team2020)\n",
    "team2020_rjoin"
   ]
  },
  {
   "cell_type": "code",
   "execution_count": null,
   "metadata": {},
   "outputs": [],
   "source": [
    "#left exclusive join\n",
    "team2019_exljoin = team2019.difference(team2020)\n",
    "team2019_exljoin"
   ]
  },
  {
   "cell_type": "code",
   "execution_count": null,
   "metadata": {},
   "outputs": [],
   "source": [
    "#right exclusive join\n",
    "team2020_exrjoin = team2020.difference(team2019) \n",
    "team2020_exrjoin"
   ]
  },
  {
   "cell_type": "code",
   "execution_count": null,
   "metadata": {},
   "outputs": [],
   "source": [
    "#Full outer join/ Union\n",
    "all_players = team2019.union(team2020) \n",
    "all_players"
   ]
  },
  {
   "cell_type": "code",
   "execution_count": null,
   "metadata": {},
   "outputs": [],
   "source": [
    "#Full outer exclusive Join/XOR\n",
    "old_new_players = (team2019.difference(team2020)).union(team2020.difference(team2019)) \n",
    "old_new_players"
   ]
  }
 ],
 "metadata": {
  "kernelspec": {
   "display_name": "Python 3",
   "language": "python",
   "name": "python3"
  },
  "language_info": {
   "codemirror_mode": {
    "name": "ipython",
    "version": 3
   },
   "file_extension": ".py",
   "mimetype": "text/x-python",
   "name": "python",
   "nbconvert_exporter": "python",
   "pygments_lexer": "ipython3",
   "version": "3.8.3"
  }
 },
 "nbformat": 4,
 "nbformat_minor": 4
}
